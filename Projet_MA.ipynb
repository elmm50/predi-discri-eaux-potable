{
  "cells": [
    {
      "cell_type": "code",
      "execution_count": 8,
      "metadata": {
        "id": "jZzBgsbX0X1O"
      },
      "outputs": [],
      "source": [
        "from IPython.core.interactiveshell import InteractiveShell\n",
        "InteractiveShell.ast_node_interactivity = \"all\"\n",
        "\n",
        "import pandas as pd\n",
        "import matplotlib.pyplot as plt\n",
        "import numpy as np"
      ]
    },
    {
      "cell_type": "markdown",
      "source": [
        "# Etude préliminaire"
      ],
      "metadata": {
        "id": "bZRqpKKjALod"
      }
    },
    {
      "cell_type": "markdown",
      "source": [
        "### Préparation des données"
      ],
      "metadata": {
        "id": "K3no0z_hDliE"
      }
    },
    {
      "cell_type": "code",
      "execution_count": 9,
      "metadata": {
        "colab": {
          "base_uri": "https://localhost:8080/"
        },
        "id": "XWEri9yL0X1S",
        "outputId": "09e2019c-d96c-4078-db33-546fde6471f2"
      },
      "outputs": [
        {
          "output_type": "execute_result",
          "data": {
            "text/plain": [
              "Index(['aluminium', 'ammonia', 'arsenic', 'barium', 'cadmium', 'chloramine',\n",
              "       'chromium', 'copper', 'flouride', 'bacteria', 'viruses', 'lead',\n",
              "       'nitrates', 'nitrites', 'mercury', 'perchlorate', 'radium', 'selenium',\n",
              "       'silver', 'uranium', 'is_safe'],\n",
              "      dtype='object')"
            ]
          },
          "metadata": {},
          "execution_count": 9
        }
      ],
      "source": [
        "#importation des données\n",
        "\n",
        "water = pd.read_csv(\"waterQuality.csv\")\n",
        "water.columns\n"
      ]
    },
    {
      "cell_type": "code",
      "execution_count": 10,
      "metadata": {
        "id": "Dkrlzt250X1U"
      },
      "outputs": [],
      "source": [
        "# on enlève les valeurs manquantes et on sépare matrice X et vecteur de variable y\n",
        "\n",
        "water = water.drop(water[water['ammonia']==\"#NUM!\"].index)\n",
        "water = water.drop(water[water['ammonia']==\"#NUM!\"].index)\n",
        "water = water.astype(float)\n",
        "X = water.drop([\"is_safe\"], axis=1)\n",
        "y = water[\"is_safe\"].astype('category')"
      ]
    },
    {
      "cell_type": "markdown",
      "source": [
        "### Stats descriptives"
      ],
      "metadata": {
        "id": "X7u3jJ8WDp0j"
      }
    },
    {
      "cell_type": "code",
      "execution_count": 11,
      "metadata": {
        "colab": {
          "base_uri": "https://localhost:8080/",
          "height": 436
        },
        "id": "EqxjsKOG0X1V",
        "outputId": "2a7de1d9-ca00-4f10-9d21-71abcafe9cda"
      },
      "outputs": [
        {
          "output_type": "execute_result",
          "data": {
            "text/plain": [
              "   aluminium  ammonia  arsenic  barium  cadmium  chloramine  chromium  copper  \\\n",
              "0       1.65     9.08     0.04    2.85    0.007        0.35      0.83    0.17   \n",
              "1       2.32    21.16     0.01    3.31    0.002        5.28      0.68    0.66   \n",
              "2       1.01    14.02     0.04    0.58    0.008        4.24      0.53    0.02   \n",
              "3       1.36    11.33     0.04    2.96    0.001        7.23      0.03    1.66   \n",
              "4       0.92    24.33     0.03    0.20    0.006        2.67      0.69    0.57   \n",
              "\n",
              "   flouride  bacteria  ...   lead  nitrates  nitrites  mercury  perchlorate  \\\n",
              "0      0.05      0.20  ...  0.054     16.08      1.13    0.007        37.75   \n",
              "1      0.90      0.65  ...  0.100      2.01      1.93    0.003        32.26   \n",
              "2      0.99      0.05  ...  0.078     14.16      1.11    0.006        50.28   \n",
              "3      1.08      0.71  ...  0.016      1.41      1.29    0.004         9.12   \n",
              "4      0.61      0.13  ...  0.117      6.74      1.11    0.003        16.90   \n",
              "\n",
              "   radium  selenium  silver  uranium  is_safe  \n",
              "0    6.78      0.08    0.34     0.02      1.0  \n",
              "1    3.21      0.08    0.27     0.05      1.0  \n",
              "2    7.07      0.07    0.44     0.01      0.0  \n",
              "3    1.72      0.02    0.45     0.05      1.0  \n",
              "4    2.41      0.02    0.06     0.02      1.0  \n",
              "\n",
              "[5 rows x 21 columns]"
            ],
            "text/html": [
              "\n",
              "  <div id=\"df-b3075401-8f65-4dd0-9615-fd8e1235f1ae\">\n",
              "    <div class=\"colab-df-container\">\n",
              "      <div>\n",
              "<style scoped>\n",
              "    .dataframe tbody tr th:only-of-type {\n",
              "        vertical-align: middle;\n",
              "    }\n",
              "\n",
              "    .dataframe tbody tr th {\n",
              "        vertical-align: top;\n",
              "    }\n",
              "\n",
              "    .dataframe thead th {\n",
              "        text-align: right;\n",
              "    }\n",
              "</style>\n",
              "<table border=\"1\" class=\"dataframe\">\n",
              "  <thead>\n",
              "    <tr style=\"text-align: right;\">\n",
              "      <th></th>\n",
              "      <th>aluminium</th>\n",
              "      <th>ammonia</th>\n",
              "      <th>arsenic</th>\n",
              "      <th>barium</th>\n",
              "      <th>cadmium</th>\n",
              "      <th>chloramine</th>\n",
              "      <th>chromium</th>\n",
              "      <th>copper</th>\n",
              "      <th>flouride</th>\n",
              "      <th>bacteria</th>\n",
              "      <th>...</th>\n",
              "      <th>lead</th>\n",
              "      <th>nitrates</th>\n",
              "      <th>nitrites</th>\n",
              "      <th>mercury</th>\n",
              "      <th>perchlorate</th>\n",
              "      <th>radium</th>\n",
              "      <th>selenium</th>\n",
              "      <th>silver</th>\n",
              "      <th>uranium</th>\n",
              "      <th>is_safe</th>\n",
              "    </tr>\n",
              "  </thead>\n",
              "  <tbody>\n",
              "    <tr>\n",
              "      <th>0</th>\n",
              "      <td>1.65</td>\n",
              "      <td>9.08</td>\n",
              "      <td>0.04</td>\n",
              "      <td>2.85</td>\n",
              "      <td>0.007</td>\n",
              "      <td>0.35</td>\n",
              "      <td>0.83</td>\n",
              "      <td>0.17</td>\n",
              "      <td>0.05</td>\n",
              "      <td>0.20</td>\n",
              "      <td>...</td>\n",
              "      <td>0.054</td>\n",
              "      <td>16.08</td>\n",
              "      <td>1.13</td>\n",
              "      <td>0.007</td>\n",
              "      <td>37.75</td>\n",
              "      <td>6.78</td>\n",
              "      <td>0.08</td>\n",
              "      <td>0.34</td>\n",
              "      <td>0.02</td>\n",
              "      <td>1.0</td>\n",
              "    </tr>\n",
              "    <tr>\n",
              "      <th>1</th>\n",
              "      <td>2.32</td>\n",
              "      <td>21.16</td>\n",
              "      <td>0.01</td>\n",
              "      <td>3.31</td>\n",
              "      <td>0.002</td>\n",
              "      <td>5.28</td>\n",
              "      <td>0.68</td>\n",
              "      <td>0.66</td>\n",
              "      <td>0.90</td>\n",
              "      <td>0.65</td>\n",
              "      <td>...</td>\n",
              "      <td>0.100</td>\n",
              "      <td>2.01</td>\n",
              "      <td>1.93</td>\n",
              "      <td>0.003</td>\n",
              "      <td>32.26</td>\n",
              "      <td>3.21</td>\n",
              "      <td>0.08</td>\n",
              "      <td>0.27</td>\n",
              "      <td>0.05</td>\n",
              "      <td>1.0</td>\n",
              "    </tr>\n",
              "    <tr>\n",
              "      <th>2</th>\n",
              "      <td>1.01</td>\n",
              "      <td>14.02</td>\n",
              "      <td>0.04</td>\n",
              "      <td>0.58</td>\n",
              "      <td>0.008</td>\n",
              "      <td>4.24</td>\n",
              "      <td>0.53</td>\n",
              "      <td>0.02</td>\n",
              "      <td>0.99</td>\n",
              "      <td>0.05</td>\n",
              "      <td>...</td>\n",
              "      <td>0.078</td>\n",
              "      <td>14.16</td>\n",
              "      <td>1.11</td>\n",
              "      <td>0.006</td>\n",
              "      <td>50.28</td>\n",
              "      <td>7.07</td>\n",
              "      <td>0.07</td>\n",
              "      <td>0.44</td>\n",
              "      <td>0.01</td>\n",
              "      <td>0.0</td>\n",
              "    </tr>\n",
              "    <tr>\n",
              "      <th>3</th>\n",
              "      <td>1.36</td>\n",
              "      <td>11.33</td>\n",
              "      <td>0.04</td>\n",
              "      <td>2.96</td>\n",
              "      <td>0.001</td>\n",
              "      <td>7.23</td>\n",
              "      <td>0.03</td>\n",
              "      <td>1.66</td>\n",
              "      <td>1.08</td>\n",
              "      <td>0.71</td>\n",
              "      <td>...</td>\n",
              "      <td>0.016</td>\n",
              "      <td>1.41</td>\n",
              "      <td>1.29</td>\n",
              "      <td>0.004</td>\n",
              "      <td>9.12</td>\n",
              "      <td>1.72</td>\n",
              "      <td>0.02</td>\n",
              "      <td>0.45</td>\n",
              "      <td>0.05</td>\n",
              "      <td>1.0</td>\n",
              "    </tr>\n",
              "    <tr>\n",
              "      <th>4</th>\n",
              "      <td>0.92</td>\n",
              "      <td>24.33</td>\n",
              "      <td>0.03</td>\n",
              "      <td>0.20</td>\n",
              "      <td>0.006</td>\n",
              "      <td>2.67</td>\n",
              "      <td>0.69</td>\n",
              "      <td>0.57</td>\n",
              "      <td>0.61</td>\n",
              "      <td>0.13</td>\n",
              "      <td>...</td>\n",
              "      <td>0.117</td>\n",
              "      <td>6.74</td>\n",
              "      <td>1.11</td>\n",
              "      <td>0.003</td>\n",
              "      <td>16.90</td>\n",
              "      <td>2.41</td>\n",
              "      <td>0.02</td>\n",
              "      <td>0.06</td>\n",
              "      <td>0.02</td>\n",
              "      <td>1.0</td>\n",
              "    </tr>\n",
              "  </tbody>\n",
              "</table>\n",
              "<p>5 rows × 21 columns</p>\n",
              "</div>\n",
              "      <button class=\"colab-df-convert\" onclick=\"convertToInteractive('df-b3075401-8f65-4dd0-9615-fd8e1235f1ae')\"\n",
              "              title=\"Convert this dataframe to an interactive table.\"\n",
              "              style=\"display:none;\">\n",
              "        \n",
              "  <svg xmlns=\"http://www.w3.org/2000/svg\" height=\"24px\"viewBox=\"0 0 24 24\"\n",
              "       width=\"24px\">\n",
              "    <path d=\"M0 0h24v24H0V0z\" fill=\"none\"/>\n",
              "    <path d=\"M18.56 5.44l.94 2.06.94-2.06 2.06-.94-2.06-.94-.94-2.06-.94 2.06-2.06.94zm-11 1L8.5 8.5l.94-2.06 2.06-.94-2.06-.94L8.5 2.5l-.94 2.06-2.06.94zm10 10l.94 2.06.94-2.06 2.06-.94-2.06-.94-.94-2.06-.94 2.06-2.06.94z\"/><path d=\"M17.41 7.96l-1.37-1.37c-.4-.4-.92-.59-1.43-.59-.52 0-1.04.2-1.43.59L10.3 9.45l-7.72 7.72c-.78.78-.78 2.05 0 2.83L4 21.41c.39.39.9.59 1.41.59.51 0 1.02-.2 1.41-.59l7.78-7.78 2.81-2.81c.8-.78.8-2.07 0-2.86zM5.41 20L4 18.59l7.72-7.72 1.47 1.35L5.41 20z\"/>\n",
              "  </svg>\n",
              "      </button>\n",
              "      \n",
              "  <style>\n",
              "    .colab-df-container {\n",
              "      display:flex;\n",
              "      flex-wrap:wrap;\n",
              "      gap: 12px;\n",
              "    }\n",
              "\n",
              "    .colab-df-convert {\n",
              "      background-color: #E8F0FE;\n",
              "      border: none;\n",
              "      border-radius: 50%;\n",
              "      cursor: pointer;\n",
              "      display: none;\n",
              "      fill: #1967D2;\n",
              "      height: 32px;\n",
              "      padding: 0 0 0 0;\n",
              "      width: 32px;\n",
              "    }\n",
              "\n",
              "    .colab-df-convert:hover {\n",
              "      background-color: #E2EBFA;\n",
              "      box-shadow: 0px 1px 2px rgba(60, 64, 67, 0.3), 0px 1px 3px 1px rgba(60, 64, 67, 0.15);\n",
              "      fill: #174EA6;\n",
              "    }\n",
              "\n",
              "    [theme=dark] .colab-df-convert {\n",
              "      background-color: #3B4455;\n",
              "      fill: #D2E3FC;\n",
              "    }\n",
              "\n",
              "    [theme=dark] .colab-df-convert:hover {\n",
              "      background-color: #434B5C;\n",
              "      box-shadow: 0px 1px 3px 1px rgba(0, 0, 0, 0.15);\n",
              "      filter: drop-shadow(0px 1px 2px rgba(0, 0, 0, 0.3));\n",
              "      fill: #FFFFFF;\n",
              "    }\n",
              "  </style>\n",
              "\n",
              "      <script>\n",
              "        const buttonEl =\n",
              "          document.querySelector('#df-b3075401-8f65-4dd0-9615-fd8e1235f1ae button.colab-df-convert');\n",
              "        buttonEl.style.display =\n",
              "          google.colab.kernel.accessAllowed ? 'block' : 'none';\n",
              "\n",
              "        async function convertToInteractive(key) {\n",
              "          const element = document.querySelector('#df-b3075401-8f65-4dd0-9615-fd8e1235f1ae');\n",
              "          const dataTable =\n",
              "            await google.colab.kernel.invokeFunction('convertToInteractive',\n",
              "                                                     [key], {});\n",
              "          if (!dataTable) return;\n",
              "\n",
              "          const docLinkHtml = 'Like what you see? Visit the ' +\n",
              "            '<a target=\"_blank\" href=https://colab.research.google.com/notebooks/data_table.ipynb>data table notebook</a>'\n",
              "            + ' to learn more about interactive tables.';\n",
              "          element.innerHTML = '';\n",
              "          dataTable['output_type'] = 'display_data';\n",
              "          await google.colab.output.renderOutput(dataTable, element);\n",
              "          const docLink = document.createElement('div');\n",
              "          docLink.innerHTML = docLinkHtml;\n",
              "          element.appendChild(docLink);\n",
              "        }\n",
              "      </script>\n",
              "    </div>\n",
              "  </div>\n",
              "  "
            ]
          },
          "metadata": {},
          "execution_count": 11
        },
        {
          "output_type": "stream",
          "name": "stderr",
          "text": [
            "/usr/local/lib/python3.8/dist-packages/pandas/io/formats/format.py:1429: FutureWarning: Index.ravel returning ndarray is deprecated; in a future version this will return a view on self.\n",
            "  for val, m in zip(values.ravel(), mask.ravel())\n"
          ]
        },
        {
          "output_type": "execute_result",
          "data": {
            "text/plain": [
              "0    1.0\n",
              "1    1.0\n",
              "2    0.0\n",
              "3    1.0\n",
              "4    1.0\n",
              "Name: is_safe, dtype: category\n",
              "Categories (2, float64): [0.0, 1.0]"
            ]
          },
          "metadata": {},
          "execution_count": 11
        }
      ],
      "source": [
        "water.head(5)\n",
        "y.head(5)"
      ]
    },
    {
      "cell_type": "markdown",
      "metadata": {
        "id": "Fskse0i-0X1W"
      },
      "source": [
        "# Algorithmes de classification"
      ]
    },
    {
      "cell_type": "code",
      "execution_count": 12,
      "metadata": {
        "id": "73lEe8oj0X1Y"
      },
      "outputs": [],
      "source": [
        "from sklearn.model_selection import train_test_split\n",
        "from imblearn.over_sampling import RandomOverSampler\n",
        "\n",
        "# création échantillon\n",
        "X_train, X_test, y_train, y_test = train_test_split(X, y, test_size=0.25)\n"
      ]
    },
    {
      "cell_type": "markdown",
      "metadata": {
        "id": "2gJp5LPn0X1Z"
      },
      "source": [
        "## Classification logistique"
      ]
    },
    {
      "cell_type": "code",
      "execution_count": 13,
      "metadata": {
        "colab": {
          "base_uri": "https://localhost:8080/"
        },
        "id": "kgR0vFQC0X1a",
        "outputId": "e210b5ea-724e-4bae-a228-6c97b7ba84f5"
      },
      "outputs": [
        {
          "output_type": "execute_result",
          "data": {
            "text/plain": [
              "LogisticRegression(max_iter=5000, penalty='none')"
            ]
          },
          "metadata": {},
          "execution_count": 13
        }
      ],
      "source": [
        "from sklearn.linear_model import LogisticRegression   # initialisation régression logistique\n",
        "\n",
        "Logit = LogisticRegression(penalty = \"none\", max_iter=5000)\n",
        "Logit.fit(X_train,y_train)"
      ]
    },
    {
      "cell_type": "markdown",
      "source": [
        "### Interprétation"
      ],
      "metadata": {
        "id": "PmwxaeScBKQY"
      }
    },
    {
      "cell_type": "markdown",
      "metadata": {
        "id": "smxCp4h-0X1e"
      },
      "source": [
        "#### matrice de confusion"
      ]
    },
    {
      "cell_type": "code",
      "execution_count": 14,
      "metadata": {
        "colab": {
          "base_uri": "https://localhost:8080/",
          "height": 735
        },
        "id": "y1X9qbbB0X1e",
        "outputId": "83ee4738-7d01-4f8b-bda2-8286daefd1a8"
      },
      "outputs": [
        {
          "output_type": "execute_result",
          "data": {
            "text/plain": [
              "<Figure size 864x864 with 0 Axes>"
            ]
          },
          "metadata": {},
          "execution_count": 14
        },
        {
          "output_type": "execute_result",
          "data": {
            "text/plain": [
              "<matplotlib.axes._subplots.AxesSubplot at 0x7f00185a7c70>"
            ]
          },
          "metadata": {},
          "execution_count": 14
        },
        {
          "output_type": "display_data",
          "data": {
            "text/plain": [
              "<Figure size 864x864 with 1 Axes>"
            ],
            "image/png": "[encoded data removed]"
          },
          "metadata": {
            "needs_background": "light"
          }
        },
        {
          "output_type": "stream",
          "name": "stdout",
          "text": [
            "erreur : 9.554777388694347%\n"
          ]
        }
      ],
      "source": [
        "predictionX=Logit.predict(X_test)\n",
        "\n",
        "from sklearn.metrics import confusion_matrix\n",
        "import seaborn as sns\n",
        "\n",
        "confusionX=confusion_matrix(y_test,predictionX)\n",
        "\n",
        "\n",
        "plt.figure(figsize=(12,12))  # set plot size (denoted in inches)\n",
        "sns.heatmap(confusionX,square=True, fmt='d', cbar=False ,annot=True)\n",
        "plt.show()\n",
        "\n",
        "err_logit=(Logit.predict(X_test) != y_test).mean()\n",
        "print(f\"erreur : {err_logit*100}%\")"
      ]
    },
    {
      "cell_type": "markdown",
      "source": [
        "#### Variance et IC"
      ],
      "metadata": {
        "id": "Wulun8kb61xY"
      }
    },
    {
      "cell_type": "markdown",
      "source": [
        "On répère 100 fois tirage + régression et on stock les odds-ratio et le taux d'arreur dans un vecteur (on en met que 10 ici pour plus de simplicité)"
      ],
      "metadata": {
        "id": "LSRzS7vDLddy"
      }
    },
    {
      "cell_type": "code",
      "source": [
        "simul = 10\n",
        "\n",
        "resultat=np.zeros((simul,X.shape[1]))\n",
        "resultat2=np.zeros(simul)\n",
        "for i in range(simul):\n",
        "  print(i)\n",
        "  X_train2, X_test2, y_train2, y_test2 = train_test_split(X, y, test_size=0.25)\n",
        "  Logit = LogisticRegression(penalty = \"none\", max_iter=5000)\n",
        "  Logit.fit(X_train2,y_train2)\n",
        "  \n",
        "  odd=np.exp(Logit.coef_)\n",
        "  resultat[i,:] = odd\n",
        "  print(f\"erreur = {(Logit.predict(X_test2) != y_test2).mean()}\")\n",
        "  resultat2[i] = (Logit.predict(X_test2) != y_test2).mean()\n"
      ],
      "metadata": {
        "id": "nZ9yERcl61ZQ",
        "colab": {
          "base_uri": "https://localhost:8080/"
        },
        "outputId": "8d81133e-ff2f-4f83-a86f-3573bf3d8301"
      },
      "execution_count": 15,
      "outputs": [
        {
          "output_type": "stream",
          "name": "stdout",
          "text": [
            "0\n"
          ]
        },
        {
          "output_type": "execute_result",
          "data": {
            "text/plain": [
              "LogisticRegression(max_iter=5000, penalty='none')"
            ]
          },
          "metadata": {},
          "execution_count": 15
        },
        {
          "output_type": "stream",
          "name": "stdout",
          "text": [
            "erreur = 0.09504752376188094\n",
            "1\n"
          ]
        },
        {
          "output_type": "execute_result",
          "data": {
            "text/plain": [
              "LogisticRegression(max_iter=5000, penalty='none')"
            ]
          },
          "metadata": {},
          "execution_count": 15
        },
        {
          "output_type": "stream",
          "name": "stdout",
          "text": [
            "erreur = 0.09104552276138068\n",
            "2\n"
          ]
        },
        {
          "output_type": "execute_result",
          "data": {
            "text/plain": [
              "LogisticRegression(max_iter=5000, penalty='none')"
            ]
          },
          "metadata": {},
          "execution_count": 15
        },
        {
          "output_type": "stream",
          "name": "stdout",
          "text": [
            "erreur = 0.09704852426213106\n",
            "3\n"
          ]
        },
        {
          "output_type": "execute_result",
          "data": {
            "text/plain": [
              "LogisticRegression(max_iter=5000, penalty='none')"
            ]
          },
          "metadata": {},
          "execution_count": 15
        },
        {
          "output_type": "stream",
          "name": "stdout",
          "text": [
            "erreur = 0.09254627313656828\n",
            "4\n"
          ]
        },
        {
          "output_type": "execute_result",
          "data": {
            "text/plain": [
              "LogisticRegression(max_iter=5000, penalty='none')"
            ]
          },
          "metadata": {},
          "execution_count": 15
        },
        {
          "output_type": "stream",
          "name": "stdout",
          "text": [
            "erreur = 0.09854927463731866\n",
            "5\n"
          ]
        },
        {
          "output_type": "execute_result",
          "data": {
            "text/plain": [
              "LogisticRegression(max_iter=5000, penalty='none')"
            ]
          },
          "metadata": {},
          "execution_count": 15
        },
        {
          "output_type": "stream",
          "name": "stdout",
          "text": [
            "erreur = 0.09104552276138068\n",
            "6\n"
          ]
        },
        {
          "output_type": "execute_result",
          "data": {
            "text/plain": [
              "LogisticRegression(max_iter=5000, penalty='none')"
            ]
          },
          "metadata": {},
          "execution_count": 15
        },
        {
          "output_type": "stream",
          "name": "stdout",
          "text": [
            "erreur = 0.09304652326163082\n",
            "7\n"
          ]
        },
        {
          "output_type": "execute_result",
          "data": {
            "text/plain": [
              "LogisticRegression(max_iter=5000, penalty='none')"
            ]
          },
          "metadata": {},
          "execution_count": 15
        },
        {
          "output_type": "stream",
          "name": "stdout",
          "text": [
            "erreur = 0.0865432716358179\n",
            "8\n"
          ]
        },
        {
          "output_type": "execute_result",
          "data": {
            "text/plain": [
              "LogisticRegression(max_iter=5000, penalty='none')"
            ]
          },
          "metadata": {},
          "execution_count": 15
        },
        {
          "output_type": "stream",
          "name": "stdout",
          "text": [
            "erreur = 0.09554777388694347\n",
            "9\n"
          ]
        },
        {
          "output_type": "execute_result",
          "data": {
            "text/plain": [
              "LogisticRegression(max_iter=5000, penalty='none')"
            ]
          },
          "metadata": {},
          "execution_count": 15
        },
        {
          "output_type": "stream",
          "name": "stdout",
          "text": [
            "erreur = 0.0895447723861931\n"
          ]
        }
      ]
    },
    {
      "cell_type": "markdown",
      "source": [
        "On calcule les moyennes et les intervalles de confiance selon la formule [Xn +/- 1.96 * sqrt(Var)] (TCL)"
      ],
      "metadata": {
        "id": "MXbYYEyzLsg3"
      }
    },
    {
      "cell_type": "code",
      "source": [
        "\n",
        "Xn = np.mean(resultat,0) \n",
        "Vn = np.var(resultat,0)\n",
        "print(\"\\n\")\n",
        "Xn_err = np.mean(resultat2)\n",
        "Vn_err = np.var(resultat2)\n",
        "print(f\"moyenne des erreurs : {Xn_err}\\n variance des erreurs : {Vn_err}\")\n",
        "\n",
        "IC_odd = np.zeros((resultat.shape[1],2))\n",
        "for i in range(resultat.shape[1]):\n",
        "  IC_odd[i] = np.array( [ Xn[i] - 1.96*np.sqrt(Vn[i]) , Xn[i] + 1.96*np.sqrt(Vn[i]) ] )\n",
        "\n",
        "IC_err = 100 * np.array(       [ Xn_err - 1.96*np.sqrt(Vn_err) , Xn_err + 1.96*np.sqrt(Vn_err) ]        )"
      ],
      "metadata": {
        "colab": {
          "base_uri": "https://localhost:8080/"
        },
        "id": "RmgUaPuv-e9E",
        "outputId": "7d98c076-3b4c-40ff-8da9-431e25fae71e"
      },
      "execution_count": 16,
      "outputs": [
        {
          "output_type": "stream",
          "name": "stdout",
          "text": [
            "\n",
            "\n",
            "moyenne des erreurs : 0.09299649824912457\n",
            " variance des erreurs : 1.1934431447839987e-05\n"
          ]
        }
      ]
    },
    {
      "cell_type": "markdown",
      "metadata": {
        "id": "xwe5myGs0X1g"
      },
      "source": [
        "#### Courbe ROC"
      ]
    },
    {
      "cell_type": "code",
      "execution_count": 17,
      "metadata": {
        "colab": {
          "base_uri": "https://localhost:8080/",
          "height": 548
        },
        "id": "2pHlPq1m0X1g",
        "outputId": "78563944-8af9-49eb-af50-ae00661ed74b"
      },
      "outputs": [
        {
          "output_type": "execute_result",
          "data": {
            "text/plain": [
              "(288,)"
            ]
          },
          "metadata": {},
          "execution_count": 17
        },
        {
          "output_type": "execute_result",
          "data": {
            "text/plain": [
              "[<matplotlib.lines.Line2D at 0x7f0018052910>]"
            ]
          },
          "metadata": {},
          "execution_count": 17
        },
        {
          "output_type": "execute_result",
          "data": {
            "text/plain": [
              "[<matplotlib.lines.Line2D at 0x7f0018052d30>]"
            ]
          },
          "metadata": {},
          "execution_count": 17
        },
        {
          "output_type": "execute_result",
          "data": {
            "text/plain": [
              "Text(0.5, 1.0, 'Courbe ROC - classifieur potabilité eau')"
            ]
          },
          "metadata": {},
          "execution_count": 17
        },
        {
          "output_type": "execute_result",
          "data": {
            "text/plain": [
              "Text(0.5, 0, 'TFP')"
            ]
          },
          "metadata": {},
          "execution_count": 17
        },
        {
          "output_type": "execute_result",
          "data": {
            "text/plain": [
              "Text(0, 0.5, 'TVP')"
            ]
          },
          "metadata": {},
          "execution_count": 17
        },
        {
          "output_type": "execute_result",
          "data": {
            "text/plain": [
              "<matplotlib.legend.Legend at 0x7f0018052b50>"
            ]
          },
          "metadata": {},
          "execution_count": 17
        },
        {
          "output_type": "display_data",
          "data": {
            "text/plain": [
              "<Figure size 576x576 with 1 Axes>"
            ],
            "image/png": "[encoded data removed]"
          },
          "metadata": {
            "needs_background": "light"
          }
        }
      ],
      "source": [
        "from sklearn.metrics import roc_curve, auc\n",
        "\n",
        "probas = Logit.predict_proba(X_test)\n",
        "fpr0, tpr0, thresholds0 = roc_curve(y_test, probas[:, 0],pos_label=Logit.classes_[0])\n",
        "fpr0.shape\n",
        "\n",
        "fig, ax = plt.subplots(1, 1, figsize=(8,8))\n",
        "ax.plot([0, 1], [0, 1], 'k--')\n",
        "aucf = auc(fpr0, tpr0)  # seconde façon\n",
        "ax.plot(fpr0, tpr0, label= ' safe \\n AUC=%1.5f' % aucf)\n",
        "ax.set_title('Courbe ROC - classifieur potabilité eau')\n",
        "ax.set_xlabel(\"TFP\")\n",
        "ax.set_ylabel(\"TVP\")\n",
        "ax.legend()"
      ]
    },
    {
      "cell_type": "markdown",
      "metadata": {
        "id": "rTlGYHyO0X1h"
      },
      "source": [
        "## Classification Forêt"
      ]
    },
    {
      "cell_type": "markdown",
      "source": [
        "### Interprétation"
      ],
      "metadata": {
        "id": "3fy9oHXzD2_9"
      }
    },
    {
      "cell_type": "markdown",
      "source": [
        "#### Cart"
      ],
      "metadata": {
        "id": "79UOBoGqBomO"
      }
    },
    {
      "cell_type": "code",
      "execution_count": 18,
      "metadata": {
        "id": "jxAPVAmx0X1h",
        "colab": {
          "base_uri": "https://localhost:8080/"
        },
        "outputId": "83bc4ddf-2c98-46fd-fd99-987c9b9b1989"
      },
      "outputs": [
        {
          "output_type": "execute_result",
          "data": {
            "text/plain": [
              "GridSearchCV(cv=10, estimator=RandomForestClassifier(n_estimators=200),\n",
              "             param_grid={'max_depth': [23]})"
            ]
          },
          "metadata": {},
          "execution_count": 18
        },
        {
          "output_type": "execute_result",
          "data": {
            "text/plain": [
              "RandomForestClassifier(max_depth=23, n_estimators=200)"
            ]
          },
          "metadata": {},
          "execution_count": 18
        }
      ],
      "source": [
        "from sklearn.ensemble import RandomForestClassifier\n",
        "from sklearn.model_selection import GridSearchCV\n",
        "\n",
        "       \n",
        "param = {'max_depth':[23]}    #paramètre obtenu après de nombreux essaies sur des  valeurs de 1 à 50\n",
        "for_opt = GridSearchCV(RandomForestClassifier(n_estimators=200), param, cv=10)\n",
        "for_opt.fit(X_train, y_train)\n",
        "for_opt.best_estimator_  \n"
      ]
    },
    {
      "cell_type": "markdown",
      "source": [
        "#### Interprétation : Cart"
      ],
      "metadata": {
        "id": "lBRGmPlvvKoz"
      }
    },
    {
      "cell_type": "markdown",
      "source": [
        "On trace un arbre pour faire l'interprétation"
      ],
      "metadata": {
        "id": "WneCQLTfM4Au"
      }
    },
    {
      "cell_type": "code",
      "source": [
        "from sklearn.tree import DecisionTreeClassifier, plot_tree\n",
        "\n",
        "tree = DecisionTreeClassifier(max_depth=23)\n",
        "tree.fit(X_train, y_train)\n",
        "plt.figure(figsize=(12,12))  # set plot size (denoted in inches)\n",
        "plot_tree(tree,max_depth=3,fontsize=10)\n",
        "plt.show()"
      ],
      "metadata": {
        "colab": {
          "base_uri": "https://localhost:8080/",
          "height": 1000
        },
        "id": "zpmWLXydvPOI",
        "outputId": "2db8f5ad-cf6c-4d3a-ad22-79cd2ea9968e"
      },
      "execution_count": 19,
      "outputs": [
        {
          "output_type": "execute_result",
          "data": {
            "text/plain": [
              "DecisionTreeClassifier(max_depth=23)"
            ]
          },
          "metadata": {},
          "execution_count": 19
        },
        {
          "output_type": "execute_result",
          "data": {
            "text/plain": [
              "<Figure size 864x864 with 0 Axes>"
            ]
          },
          "metadata": {},
          "execution_count": 19
        },
        {
          "output_type": "execute_result",
          "data": {
            "text/plain": [
              "[Text(0.5431034482758621, 0.9, 'X[0] <= 0.385\\ngini = 0.202\\nsamples = 5997\\nvalue = [5313, 684]'),\n",
              " Text(0.27586206896551724, 0.7, 'X[0] <= 0.115\\ngini = 0.085\\nsamples = 4627\\nvalue = [4420, 207]'),\n",
              " Text(0.13793103448275862, 0.5, 'X[10] <= 0.505\\ngini = 0.068\\nsamples = 4172\\nvalue = [4024, 148]'),\n",
              " Text(0.06896551724137931, 0.3, 'X[13] <= 1.005\\ngini = 0.102\\nsamples = 2303\\nvalue = [2179, 124]'),\n",
              " Text(0.034482758620689655, 0.1, '\\n  (...)  \\n'),\n",
              " Text(0.10344827586206896, 0.1, '\\n  (...)  \\n'),\n",
              " Text(0.20689655172413793, 0.3, 'X[5] <= 1.215\\ngini = 0.025\\nsamples = 1869\\nvalue = [1845, 24]'),\n",
              " Text(0.1724137931034483, 0.1, '\\n  (...)  \\n'),\n",
              " Text(0.2413793103448276, 0.1, '\\n  (...)  \\n'),\n",
              " Text(0.41379310344827586, 0.5, 'X[18] <= 0.095\\ngini = 0.226\\nsamples = 455\\nvalue = [396, 59]'),\n",
              " Text(0.3448275862068966, 0.3, 'X[19] <= 0.035\\ngini = 0.467\\nsamples = 94\\nvalue = [59, 35]'),\n",
              " Text(0.3103448275862069, 0.1, '\\n  (...)  \\n'),\n",
              " Text(0.3793103448275862, 0.1, '\\n  (...)  \\n'),\n",
              " Text(0.4827586206896552, 0.3, 'X[12] <= 1.495\\ngini = 0.124\\nsamples = 361\\nvalue = [337, 24]'),\n",
              " Text(0.4482758620689655, 0.1, '\\n  (...)  \\n'),\n",
              " Text(0.5172413793103449, 0.1, '\\n  (...)  \\n'),\n",
              " Text(0.8103448275862069, 0.7, 'X[4] <= 0.009\\ngini = 0.454\\nsamples = 1370\\nvalue = [893, 477]'),\n",
              " Text(0.6896551724137931, 0.5, 'X[15] <= 35.05\\ngini = 0.46\\nsamples = 697\\nvalue = [250, 447]'),\n",
              " Text(0.6206896551724138, 0.3, 'X[2] <= 0.09\\ngini = 0.193\\nsamples = 415\\nvalue = [45, 370]'),\n",
              " Text(0.5862068965517241, 0.1, '\\n  (...)  \\n'),\n",
              " Text(0.6551724137931034, 0.1, '\\n  (...)  \\n'),\n",
              " Text(0.7586206896551724, 0.3, 'X[1] <= 10.655\\ngini = 0.397\\nsamples = 282\\nvalue = [205, 77]'),\n",
              " Text(0.7241379310344828, 0.1, '\\n  (...)  \\n'),\n",
              " Text(0.7931034482758621, 0.1, '\\n  (...)  \\n'),\n",
              " Text(0.9310344827586207, 0.5, 'X[18] <= 0.105\\ngini = 0.085\\nsamples = 673\\nvalue = [643, 30]'),\n",
              " Text(0.896551724137931, 0.3, 'X[19] <= 0.025\\ngini = 0.335\\nsamples = 141\\nvalue = [111, 30]'),\n",
              " Text(0.8620689655172413, 0.1, '\\n  (...)  \\n'),\n",
              " Text(0.9310344827586207, 0.1, '\\n  (...)  \\n'),\n",
              " Text(0.9655172413793104, 0.3, 'gini = 0.0\\nsamples = 532\\nvalue = [532, 0]')]"
            ]
          },
          "metadata": {},
          "execution_count": 19
        },
        {
          "output_type": "display_data",
          "data": {
            "text/plain": [
              "<Figure size 864x864 with 1 Axes>"
            ],
            "image/png": "[encoded data removed]"
          },
          "metadata": {
            "needs_background": "light"
          }
        }
      ]
    },
    {
      "cell_type": "markdown",
      "source": [
        "#### Matrice de confusion"
      ],
      "metadata": {
        "id": "Wjzo31o4BzQZ"
      }
    },
    {
      "cell_type": "code",
      "execution_count": 20,
      "metadata": {
        "id": "Di2qksHa0X1k",
        "colab": {
          "base_uri": "https://localhost:8080/",
          "height": 735
        },
        "outputId": "997086ec-b2c0-4414-8901-deaf9a5c827e"
      },
      "outputs": [
        {
          "output_type": "execute_result",
          "data": {
            "text/plain": [
              "<Figure size 864x864 with 0 Axes>"
            ]
          },
          "metadata": {},
          "execution_count": 20
        },
        {
          "output_type": "execute_result",
          "data": {
            "text/plain": [
              "<matplotlib.axes._subplots.AxesSubplot at 0x7f0017ef0a30>"
            ]
          },
          "metadata": {},
          "execution_count": 20
        },
        {
          "output_type": "display_data",
          "data": {
            "text/plain": [
              "<Figure size 864x864 with 1 Axes>"
            ],
            "image/png": "[encoded data removed]"
          },
          "metadata": {
            "needs_background": "light"
          }
        },
        {
          "output_type": "stream",
          "name": "stdout",
          "text": [
            "erreur : 4.352176088044022%\n"
          ]
        }
      ],
      "source": [
        "predictionX=for_opt.predict(X_test)\n",
        "confusionX=confusion_matrix(y_test,predictionX)\n",
        "plt.figure(figsize=(12,12)) \n",
        "sns.heatmap(confusionX,square=True, fmt='d', cbar=False ,annot=True)\n",
        "plt.show()\n",
        "\n",
        "err_for=(for_opt.predict(X_test) != y_test).mean()\n",
        "print(f\"erreur : {err_for*100}%\")\n"
      ]
    },
    {
      "cell_type": "markdown",
      "source": [
        "#### Variance et IC"
      ],
      "metadata": {
        "id": "Vc5UdYHPN8EY"
      }
    },
    {
      "cell_type": "markdown",
      "source": [
        "Même procédé que pour la régression logistique"
      ],
      "metadata": {
        "id": "MSUxzBgIM-ZR"
      }
    },
    {
      "cell_type": "code",
      "source": [
        "simul = 10\n",
        "\n",
        "resultat=np.zeros(simul)\n",
        "for i in range(simul):\n",
        "  print(i)\n",
        "  X_train2, X_test2, y_train2, y_test2 = train_test_split(X, y, test_size=0.25)\n",
        "  foret = RandomForestClassifier(max_depth=23, n_estimators=200)\n",
        "  foret.fit(X_train2,y_train2)\n",
        "  \n",
        "  print(f\"erreur = {(foret.predict(X_test2) != y_test2).mean()}\")\n",
        "  resultat[i] = (foret.predict(X_test2) != y_test2).mean()\n"
      ],
      "metadata": {
        "colab": {
          "base_uri": "https://localhost:8080/"
        },
        "id": "iG1vgFLLN4YX",
        "outputId": "dfd28455-4f91-499b-ae43-80500a09f74d"
      },
      "execution_count": 21,
      "outputs": [
        {
          "output_type": "stream",
          "name": "stdout",
          "text": [
            "0\n"
          ]
        },
        {
          "output_type": "execute_result",
          "data": {
            "text/plain": [
              "RandomForestClassifier(max_depth=23, n_estimators=200)"
            ]
          },
          "metadata": {},
          "execution_count": 21
        },
        {
          "output_type": "stream",
          "name": "stdout",
          "text": [
            "erreur = 0.04552276138069034\n",
            "1\n"
          ]
        },
        {
          "output_type": "execute_result",
          "data": {
            "text/plain": [
              "RandomForestClassifier(max_depth=23, n_estimators=200)"
            ]
          },
          "metadata": {},
          "execution_count": 21
        },
        {
          "output_type": "stream",
          "name": "stdout",
          "text": [
            "erreur = 0.04052026013006503\n",
            "2\n"
          ]
        },
        {
          "output_type": "execute_result",
          "data": {
            "text/plain": [
              "RandomForestClassifier(max_depth=23, n_estimators=200)"
            ]
          },
          "metadata": {},
          "execution_count": 21
        },
        {
          "output_type": "stream",
          "name": "stdout",
          "text": [
            "erreur = 0.03301650825412707\n",
            "3\n"
          ]
        },
        {
          "output_type": "execute_result",
          "data": {
            "text/plain": [
              "RandomForestClassifier(max_depth=23, n_estimators=200)"
            ]
          },
          "metadata": {},
          "execution_count": 21
        },
        {
          "output_type": "stream",
          "name": "stdout",
          "text": [
            "erreur = 0.053526763381690844\n",
            "4\n"
          ]
        },
        {
          "output_type": "execute_result",
          "data": {
            "text/plain": [
              "RandomForestClassifier(max_depth=23, n_estimators=200)"
            ]
          },
          "metadata": {},
          "execution_count": 21
        },
        {
          "output_type": "stream",
          "name": "stdout",
          "text": [
            "erreur = 0.04452226113056528\n",
            "5\n"
          ]
        },
        {
          "output_type": "execute_result",
          "data": {
            "text/plain": [
              "RandomForestClassifier(max_depth=23, n_estimators=200)"
            ]
          },
          "metadata": {},
          "execution_count": 21
        },
        {
          "output_type": "stream",
          "name": "stdout",
          "text": [
            "erreur = 0.04452226113056528\n",
            "6\n"
          ]
        },
        {
          "output_type": "execute_result",
          "data": {
            "text/plain": [
              "RandomForestClassifier(max_depth=23, n_estimators=200)"
            ]
          },
          "metadata": {},
          "execution_count": 21
        },
        {
          "output_type": "stream",
          "name": "stdout",
          "text": [
            "erreur = 0.04402201100550275\n",
            "7\n"
          ]
        },
        {
          "output_type": "execute_result",
          "data": {
            "text/plain": [
              "RandomForestClassifier(max_depth=23, n_estimators=200)"
            ]
          },
          "metadata": {},
          "execution_count": 21
        },
        {
          "output_type": "stream",
          "name": "stdout",
          "text": [
            "erreur = 0.03651825912956478\n",
            "8\n"
          ]
        },
        {
          "output_type": "execute_result",
          "data": {
            "text/plain": [
              "RandomForestClassifier(max_depth=23, n_estimators=200)"
            ]
          },
          "metadata": {},
          "execution_count": 21
        },
        {
          "output_type": "stream",
          "name": "stdout",
          "text": [
            "erreur = 0.04902451225612806\n",
            "9\n"
          ]
        },
        {
          "output_type": "execute_result",
          "data": {
            "text/plain": [
              "RandomForestClassifier(max_depth=23, n_estimators=200)"
            ]
          },
          "metadata": {},
          "execution_count": 21
        },
        {
          "output_type": "stream",
          "name": "stdout",
          "text": [
            "erreur = 0.04302151075537769\n"
          ]
        }
      ]
    },
    {
      "cell_type": "code",
      "source": [
        "\n",
        "Xn_err = np.mean(resultat)\n",
        "Vn_err = np.var(resultat)\n",
        "\n",
        "print(f\"moyenne des erreurs : {Xn_err}\\n variance des erreurs : {Vn_err}\")\n",
        "\n",
        "IC_err = 100 * np.array( [ Xn_err - 1.96*np.sqrt(Vn_err) , Xn_err + 1.96*np.sqrt(Vn_err) ]        )\n",
        "\n",
        "print(\"\\n\")\n",
        "np.round(IC_err,2)"
      ],
      "metadata": {
        "colab": {
          "base_uri": "https://localhost:8080/"
        },
        "id": "lhqFautbO-Ej",
        "outputId": "e77f656d-a379-473d-8723-b219dc83a6c8"
      },
      "execution_count": 22,
      "outputs": [
        {
          "output_type": "stream",
          "name": "stdout",
          "text": [
            "moyenne des erreurs : 0.04342171085542772\n",
            " variance des erreurs : 3.052051288275453e-05\n",
            "\n",
            "\n"
          ]
        },
        {
          "output_type": "execute_result",
          "data": {
            "text/plain": [
              "array([3.26, 5.42])"
            ]
          },
          "metadata": {},
          "execution_count": 22
        }
      ]
    },
    {
      "cell_type": "markdown",
      "source": [
        "#### Courbe ROC"
      ],
      "metadata": {
        "id": "M27i4pFpCO4k"
      }
    },
    {
      "cell_type": "code",
      "execution_count": 23,
      "metadata": {
        "id": "QI7ZUa6p0X1l",
        "colab": {
          "base_uri": "https://localhost:8080/",
          "height": 513
        },
        "outputId": "b2c778bd-5504-4202-9f04-b9b2d67f835c"
      },
      "outputs": [
        {
          "output_type": "display_data",
          "data": {
            "text/plain": [
              "<Figure size 576x576 with 1 Axes>"
            ],
            "image/png": "[encoded data removed]"
          },
          "metadata": {
            "needs_background": "light"
          }
        }
      ],
      "source": [
        "probas = Logit.predict_proba(X_test)\n",
        "probas2 = for_opt.predict_proba(X_test)\n",
        "fpr0, tpr0, thresholds0 = roc_curve(y_test, probas[:, 0],pos_label=Logit.classes_[0])\n",
        "fpr1, tpr1, thresholds1 = roc_curve(y_test, probas2[:, 0],pos_label=for_opt.classes_[0])\n",
        "fpr0.shape\n",
        "fpr1.shape\n",
        "\n",
        "fig, ax = plt.subplots(1, 1, figsize=(8,8))\n",
        "ax.plot([0, 1], [0, 1], 'k--')\n",
        "aucf = auc(fpr0, tpr0)  # seconde façon\n",
        "aucf1 = auc(fpr1, tpr1)\n",
        "ax.plot(fpr0, tpr0, label= ' safe logistique \\n AUC=%1.5f' % aucf)\n",
        "ax.plot(fpr1, tpr1, label= ' safe random forest \\n AUC=%1.5f' % aucf1)\n",
        "ax.set_title('Courbe ROC - classifieur ptabilité eau')\n",
        "ax.set_xlabel(\"TFP\")\n",
        "ax.set_ylabel(\"TVP\");\n",
        "ax.legend();"
      ]
    },
    {
      "cell_type": "markdown",
      "metadata": {
        "id": "we_6L6fA0X1m"
      },
      "source": [
        "## SVM"
      ]
    },
    {
      "cell_type": "code",
      "execution_count": 24,
      "metadata": {
        "id": "Em4WTR2Q0X1n"
      },
      "outputs": [],
      "source": [
        "from sklearn.preprocessing import StandardScaler\n",
        "from sklearn.svm import SVC\n",
        "\n",
        "SS=StandardScaler().fit(X_train)\n",
        "Xs_train = SS.transform(X_train)\n",
        "Xs_test = SS.transform(X_test)"
      ]
    },
    {
      "cell_type": "markdown",
      "source": [
        "### Optimisation"
      ],
      "metadata": {
        "id": "iQy0GXidDQZ2"
      }
    },
    {
      "cell_type": "code",
      "source": [
        "param_grid = {'C':[90],          \n",
        "              'gamma': [0.01]}\n",
        "\n",
        "grid = GridSearchCV(SVC(probability = True), param_grid)\n",
        "# grid = SVC(C=90, gamma = 0.01, probability = True)\n",
        "grid.fit(Xs_train,y_train)\n",
        "grid.best_estimator_"
      ],
      "metadata": {
        "id": "vzxQmOkV1C1q",
        "colab": {
          "base_uri": "https://localhost:8080/"
        },
        "outputId": "88b21cc2-67ad-4919-a3e5-b42f324e90c3"
      },
      "execution_count": 25,
      "outputs": [
        {
          "output_type": "execute_result",
          "data": {
            "text/plain": [
              "GridSearchCV(estimator=SVC(probability=True),\n",
              "             param_grid={'C': [90], 'gamma': [0.01]})"
            ]
          },
          "metadata": {},
          "execution_count": 25
        },
        {
          "output_type": "execute_result",
          "data": {
            "text/plain": [
              "SVC(C=90, gamma=0.01, probability=True)"
            ]
          },
          "metadata": {},
          "execution_count": 25
        }
      ]
    },
    {
      "cell_type": "code",
      "source": [
        "# grid.best_estimator_\n",
        "err_svc=(grid.predict(Xs_test) != y_test).mean()\n",
        "print(f\"erreur : {err_svc*100}%\")\n",
        "conf_svc = confusion_matrix(y_test, grid.predict(Xs_test))\n",
        "plt.figure(figsize=(12,12))  # set plot size (denoted in inches)\n",
        "sns.heatmap(conf_svc,square=True, fmt='d', cbar=False ,annot=True,linewidth=.5)\n",
        "plt.show()"
      ],
      "metadata": {
        "colab": {
          "base_uri": "https://localhost:8080/",
          "height": 735
        },
        "id": "1CG11AU9ScZR",
        "outputId": "dbeb2eb6-811f-467d-d592-fab37a05505e"
      },
      "execution_count": 26,
      "outputs": [
        {
          "output_type": "stream",
          "name": "stdout",
          "text": [
            "erreur : 5.152576288144072%\n"
          ]
        },
        {
          "output_type": "execute_result",
          "data": {
            "text/plain": [
              "<Figure size 864x864 with 0 Axes>"
            ]
          },
          "metadata": {},
          "execution_count": 26
        },
        {
          "output_type": "execute_result",
          "data": {
            "text/plain": [
              "<matplotlib.axes._subplots.AxesSubplot at 0x7f00166e0c40>"
            ]
          },
          "metadata": {},
          "execution_count": 26
        },
        {
          "output_type": "display_data",
          "data": {
            "text/plain": [
              "<Figure size 864x864 with 1 Axes>"
            ],
            "image/png": "[encoded data removed]"
          },
          "metadata": {
            "needs_background": "light"
          }
        }
      ]
    },
    {
      "cell_type": "markdown",
      "source": [
        "### Courbe ROC"
      ],
      "metadata": {
        "id": "fLFMcZQgDUYS"
      }
    },
    {
      "cell_type": "code",
      "source": [
        "probas = Logit.predict_proba(X_test)\n",
        "probas2 = for_opt.predict_proba(X_test)\n",
        "probas3 = grid.predict_proba(Xs_test)\n",
        "fpr0, tpr0, thresholds0 = roc_curve(y_test, probas[:, 0],pos_label=Logit.classes_[0])\n",
        "fpr1, tpr1, thresholds1 = roc_curve(y_test, probas2[:, 0],pos_label=for_opt.classes_[0])\n",
        "fpr2, tpr2, thresholds2 = roc_curve(y_test, probas3[:, 0],pos_label=for_opt.classes_[0])\n",
        "fpr0.shape\n",
        "fpr1.shape\n",
        "fpr2.shape\n",
        "\n",
        "fig, ax = plt.subplots(1, 1, figsize=(12,12))\n",
        "ax.plot([0, 1], [0, 1], 'k--')\n",
        "aucf = auc(fpr0, tpr0)  # seconde façon\n",
        "aucf1 = auc(fpr1, tpr1)\n",
        "aucf2 = auc(fpr2, tpr2)\n",
        "ax.plot(fpr0, tpr0, label= ' safe logistique \\n AUC=%1.5f' % aucf)\n",
        "ax.plot(fpr1, tpr1, label= ' safe random forest \\n AUC=%1.5f' % aucf1)\n",
        "ax.plot(fpr2, tpr2, label= ' safe SVC \\n AUC=%1.5f' % aucf2)\n",
        "ax.set_title('Courbe ROC - classifieur potabilité eau')\n",
        "ax.set_xlabel(\"TFP\")\n",
        "ax.set_ylabel(\"TVP\");\n",
        "ax.legend();"
      ],
      "metadata": {
        "id": "rzJspSFB2ClS",
        "colab": {
          "base_uri": "https://localhost:8080/",
          "height": 730
        },
        "outputId": "d578e71c-20e1-42e2-fe57-f472fd2411e3"
      },
      "execution_count": 27,
      "outputs": [
        {
          "output_type": "display_data",
          "data": {
            "text/plain": [
              "<Figure size 864x864 with 1 Axes>"
            ],
            "image/png": "[encoded data removed]"
          },
          "metadata": {
            "needs_background": "light"
          }
        }
      ]
    },
    {
      "cell_type": "markdown",
      "source": [
        "# Super learner"
      ],
      "metadata": {
        "id": "G8Ci5ALYb0Sw"
      }
    },
    {
      "cell_type": "markdown",
      "source": [
        "### Construction de la matrice"
      ],
      "metadata": {
        "id": "fACt452qCpuu"
      }
    },
    {
      "cell_type": "code",
      "source": [
        "# on constuit la matrice entièrement et puis on garde les index présents dans l'échantillon test puis dans l'échantillon train\n",
        "\n",
        "df1=pd.DataFrame(Logit.predict_proba(X),index = X.index, columns = ['1 logit', '0 logit'])\n",
        "df2=pd.DataFrame(for_opt.predict_proba(X),index = X.index, columns = ['1 forest', '0 forest'])\n",
        "df3=pd.DataFrame(grid.predict_proba(SS.transform(X)),index = X.index, columns = ['1 SVC', '0 SVC'])\n",
        "\n",
        "Pred_mat = pd.concat([df1['1 logit'], df2['1 forest'], df3['1 SVC']], axis = 1)\n",
        "Pred_mat_test = Pred_mat.loc[y_test.index, :]\n",
        "Pred_mat = Pred_mat.loc[y_train.index, :]"
      ],
      "metadata": {
        "id": "pBTwdeUDUkvW"
      },
      "execution_count": 28,
      "outputs": []
    },
    {
      "cell_type": "markdown",
      "source": [
        "### Régression logistique"
      ],
      "metadata": {
        "id": "OfunCmKkCuYj"
      }
    },
    {
      "cell_type": "code",
      "source": [
        "super=LogisticRegression(max_iter=5000)\n",
        "super.fit(Pred_mat,y_train)"
      ],
      "metadata": {
        "id": "Z0T36dGMcXVo",
        "colab": {
          "base_uri": "https://localhost:8080/"
        },
        "outputId": "1c56d9c6-874e-4f6c-c171-a70621b3e207"
      },
      "execution_count": 29,
      "outputs": [
        {
          "output_type": "execute_result",
          "data": {
            "text/plain": [
              "LogisticRegression(max_iter=5000)"
            ]
          },
          "metadata": {},
          "execution_count": 29
        }
      ]
    },
    {
      "cell_type": "code",
      "source": [
        "coef1=np.concatenate((super.intercept_,super.coef_[0]))\n",
        "var1=Pred_mat.columns.tolist()\n",
        "var1.insert(0,\"intercetp\")\n",
        "df1=pd.DataFrame(coef1).T #['Beta'+str(i) for i in range(0,resultat.shape[1])])\n",
        "\n",
        "df1.columns=var1\n",
        "\n",
        "df1.index=[\"coefs X\"]"
      ],
      "metadata": {
        "id": "6BmVcAu4cnPB"
      },
      "execution_count": 30,
      "outputs": []
    },
    {
      "cell_type": "code",
      "source": [
        "odds_ratio=pd.DataFrame(np.exp(super.coef_),columns=Pred_mat.columns.tolist())\n",
        "odds_ratio.index=['odd-ratio']\n",
        "odds_ratio"
      ],
      "metadata": {
        "id": "L9bHaSodfWED",
        "colab": {
          "base_uri": "https://localhost:8080/",
          "height": 81
        },
        "outputId": "c1271111-b4cd-4a73-e9a1-e8c09a7192d8"
      },
      "execution_count": 31,
      "outputs": [
        {
          "output_type": "execute_result",
          "data": {
            "text/plain": [
              "            1 logit  1 forest     1 SVC\n",
              "odd-ratio  1.199307  0.000012  0.110065"
            ],
            "text/html": [
              "\n",
              "  <div id=\"df-d20e6100-86d8-4dca-b67c-7ce0d414fadb\">\n",
              "    <div class=\"colab-df-container\">\n",
              "      <div>\n",
              "<style scoped>\n",
              "    .dataframe tbody tr th:only-of-type {\n",
              "        vertical-align: middle;\n",
              "    }\n",
              "\n",
              "    .dataframe tbody tr th {\n",
              "        vertical-align: top;\n",
              "    }\n",
              "\n",
              "    .dataframe thead th {\n",
              "        text-align: right;\n",
              "    }\n",
              "</style>\n",
              "<table border=\"1\" class=\"dataframe\">\n",
              "  <thead>\n",
              "    <tr style=\"text-align: right;\">\n",
              "      <th></th>\n",
              "      <th>1 logit</th>\n",
              "      <th>1 forest</th>\n",
              "      <th>1 SVC</th>\n",
              "    </tr>\n",
              "  </thead>\n",
              "  <tbody>\n",
              "    <tr>\n",
              "      <th>odd-ratio</th>\n",
              "      <td>1.199307</td>\n",
              "      <td>0.000012</td>\n",
              "      <td>0.110065</td>\n",
              "    </tr>\n",
              "  </tbody>\n",
              "</table>\n",
              "</div>\n",
              "      <button class=\"colab-df-convert\" onclick=\"convertToInteractive('df-d20e6100-86d8-4dca-b67c-7ce0d414fadb')\"\n",
              "              title=\"Convert this dataframe to an interactive table.\"\n",
              "              style=\"display:none;\">\n",
              "        \n",
              "  <svg xmlns=\"http://www.w3.org/2000/svg\" height=\"24px\"viewBox=\"0 0 24 24\"\n",
              "       width=\"24px\">\n",
              "    <path d=\"M0 0h24v24H0V0z\" fill=\"none\"/>\n",
              "    <path d=\"M18.56 5.44l.94 2.06.94-2.06 2.06-.94-2.06-.94-.94-2.06-.94 2.06-2.06.94zm-11 1L8.5 8.5l.94-2.06 2.06-.94-2.06-.94L8.5 2.5l-.94 2.06-2.06.94zm10 10l.94 2.06.94-2.06 2.06-.94-2.06-.94-.94-2.06-.94 2.06-2.06.94z\"/><path d=\"M17.41 7.96l-1.37-1.37c-.4-.4-.92-.59-1.43-.59-.52 0-1.04.2-1.43.59L10.3 9.45l-7.72 7.72c-.78.78-.78 2.05 0 2.83L4 21.41c.39.39.9.59 1.41.59.51 0 1.02-.2 1.41-.59l7.78-7.78 2.81-2.81c.8-.78.8-2.07 0-2.86zM5.41 20L4 18.59l7.72-7.72 1.47 1.35L5.41 20z\"/>\n",
              "  </svg>\n",
              "      </button>\n",
              "      \n",
              "  <style>\n",
              "    .colab-df-container {\n",
              "      display:flex;\n",
              "      flex-wrap:wrap;\n",
              "      gap: 12px;\n",
              "    }\n",
              "\n",
              "    .colab-df-convert {\n",
              "      background-color: #E8F0FE;\n",
              "      border: none;\n",
              "      border-radius: 50%;\n",
              "      cursor: pointer;\n",
              "      display: none;\n",
              "      fill: #1967D2;\n",
              "      height: 32px;\n",
              "      padding: 0 0 0 0;\n",
              "      width: 32px;\n",
              "    }\n",
              "\n",
              "    .colab-df-convert:hover {\n",
              "      background-color: #E2EBFA;\n",
              "      box-shadow: 0px 1px 2px rgba(60, 64, 67, 0.3), 0px 1px 3px 1px rgba(60, 64, 67, 0.15);\n",
              "      fill: #174EA6;\n",
              "    }\n",
              "\n",
              "    [theme=dark] .colab-df-convert {\n",
              "      background-color: #3B4455;\n",
              "      fill: #D2E3FC;\n",
              "    }\n",
              "\n",
              "    [theme=dark] .colab-df-convert:hover {\n",
              "      background-color: #434B5C;\n",
              "      box-shadow: 0px 1px 3px 1px rgba(0, 0, 0, 0.15);\n",
              "      filter: drop-shadow(0px 1px 2px rgba(0, 0, 0, 0.3));\n",
              "      fill: #FFFFFF;\n",
              "    }\n",
              "  </style>\n",
              "\n",
              "      <script>\n",
              "        const buttonEl =\n",
              "          document.querySelector('#df-d20e6100-86d8-4dca-b67c-7ce0d414fadb button.colab-df-convert');\n",
              "        buttonEl.style.display =\n",
              "          google.colab.kernel.accessAllowed ? 'block' : 'none';\n",
              "\n",
              "        async function convertToInteractive(key) {\n",
              "          const element = document.querySelector('#df-d20e6100-86d8-4dca-b67c-7ce0d414fadb');\n",
              "          const dataTable =\n",
              "            await google.colab.kernel.invokeFunction('convertToInteractive',\n",
              "                                                     [key], {});\n",
              "          if (!dataTable) return;\n",
              "\n",
              "          const docLinkHtml = 'Like what you see? Visit the ' +\n",
              "            '<a target=\"_blank\" href=https://colab.research.google.com/notebooks/data_table.ipynb>data table notebook</a>'\n",
              "            + ' to learn more about interactive tables.';\n",
              "          element.innerHTML = '';\n",
              "          dataTable['output_type'] = 'display_data';\n",
              "          await google.colab.output.renderOutput(dataTable, element);\n",
              "          const docLink = document.createElement('div');\n",
              "          docLink.innerHTML = docLinkHtml;\n",
              "          element.appendChild(docLink);\n",
              "        }\n",
              "      </script>\n",
              "    </div>\n",
              "  </div>\n",
              "  "
            ]
          },
          "metadata": {},
          "execution_count": 31
        }
      ]
    },
    {
      "cell_type": "markdown",
      "source": [
        "### Prédictions"
      ],
      "metadata": {
        "id": "LFoPGPmaC5H7"
      }
    },
    {
      "cell_type": "code",
      "source": [
        "predictionX=super.predict(Pred_mat_test)\n",
        "\n",
        "confusionX=confusion_matrix(y_test,predictionX)\n",
        "plt.figure(figsize=(12,12))  # set plot size (denoted in inches)\n",
        "sns.heatmap(confusionX,square=True, fmt='d', cbar=False ,annot=True,linewidth=.5)\n",
        "plt.show()\n",
        "err_logit=(super.predict(Pred_mat_test) != y_test).mean()\n",
        "print(f\"erreur : {err_logit*100}%\")"
      ],
      "metadata": {
        "id": "8QYnL2hqfzCM",
        "colab": {
          "base_uri": "https://localhost:8080/",
          "height": 735
        },
        "outputId": "59014b19-82af-4da1-d7cf-6c399f00d133"
      },
      "execution_count": 37,
      "outputs": [
        {
          "output_type": "execute_result",
          "data": {
            "text/plain": [
              "<Figure size 864x864 with 0 Axes>"
            ]
          },
          "metadata": {},
          "execution_count": 37
        },
        {
          "output_type": "execute_result",
          "data": {
            "text/plain": [
              "<matplotlib.axes._subplots.AxesSubplot at 0x7f00164ffaf0>"
            ]
          },
          "metadata": {},
          "execution_count": 37
        },
        {
          "output_type": "display_data",
          "data": {
            "text/plain": [
              "<Figure size 864x864 with 1 Axes>"
            ],
            "image/png": "[encoded data removed]"
          },
          "metadata": {
            "needs_background": "light"
          }
        },
        {
          "output_type": "stream",
          "name": "stdout",
          "text": [
            "erreur : 4.15207603801901%\n"
          ]
        }
      ]
    },
    {
      "cell_type": "markdown",
      "source": [
        "# Conculsion : comparaison finale"
      ],
      "metadata": {
        "id": "a_Ad9AHqC8Nz"
      }
    },
    {
      "cell_type": "code",
      "source": [
        "probas = Logit.predict_proba(X_test)\n",
        "probas2 = for_opt.predict_proba(X_test)\n",
        "probas3 = grid.predict_proba(Xs_test)\n",
        "probas4 = super.predict_proba(Pred_mat_test)\n",
        "\n",
        "fpr0, tpr0, thresholds0 = roc_curve(y_test, probas[:, 0],pos_label=Logit.classes_[0])\n",
        "fpr1, tpr1, thresholds1 = roc_curve(y_test, probas2[:, 0],pos_label=for_opt.classes_[0])\n",
        "fpr2, tpr2, thresholds2 = roc_curve(y_test, probas3[:, 0],pos_label=for_opt.classes_[0])\n",
        "fpr3, tpr3, thresholds3 = roc_curve(y_test, probas4[:, 0],pos_label=for_opt.classes_[0])\n",
        "\n",
        "\n",
        "fig, ax = plt.subplots(1, 1, figsize=(12,12))\n",
        "ax.plot([0, 1], [0, 1], 'k--')\n",
        "\n",
        "aucf = auc(fpr0, tpr0)  # seconde façon\n",
        "aucf1 = auc(fpr1, tpr1)\n",
        "aucf2 = auc(fpr2, tpr2)\n",
        "aucf3 = auc(fpr3, tpr3)\n",
        "\n",
        "ax.plot(fpr0, tpr0, label= ' safe logistique \\n AUC=%1.5f' % aucf)\n",
        "ax.plot(fpr1, tpr1, label= ' safe random forest \\n AUC=%1.5f' % aucf1)\n",
        "ax.plot(fpr2, tpr2, label= ' safe SVC \\n AUC=%1.5f' % aucf2)\n",
        "ax.plot(fpr3, tpr3, label= ' safe super learner \\n AUC=%1.5f' % aucf3)\n",
        "\n",
        "ax.set_title('Courbe ROC - classifieur potabilité eau')\n",
        "ax.set_xlabel(\"TFP\")\n",
        "ax.set_ylabel(\"TVP\");\n",
        "ax.legend();"
      ],
      "metadata": {
        "id": "Fm3fg_Ionubl",
        "colab": {
          "base_uri": "https://localhost:8080/",
          "height": 730
        },
        "outputId": "1c2df1e5-8656-4acf-84ec-faf3091dcb75"
      },
      "execution_count": 33,
      "outputs": [
        {
          "output_type": "display_data",
          "data": {
            "text/plain": [
              "<Figure size 864x864 with 1 Axes>"
            ],
            "image/png": "[encoded data removed]"
          },
          "metadata": {
            "needs_background": "light"
          }
        }
      ]
    }
  ],
  "metadata": {
    "kernelspec": {
      "display_name": "base",
      "language": "python",
      "name": "python3"
    },
    "language_info": {
      "codemirror_mode": {
        "name": "ipython",
        "version": 3
      },
      "file_extension": ".py",
      "mimetype": "text/x-python",
      "name": "python",
      "nbconvert_exporter": "python",
      "pygments_lexer": "ipython3",
      "version": "3.8.8"
    },
    "orig_nbformat": 4,
    "vscode": {
      "interpreter": {
        "hash": "957668f77d739aed3606dc0cb3e6b9836150d21e7c3a979985571ea2faa3bd84"
      }
    },
    "colab": {
      "provenance": []
    }
  },
  "nbformat": 4,
  "nbformat_minor": 0
}